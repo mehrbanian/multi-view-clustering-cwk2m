{
 "cells": [
  {
   "cell_type": "code",
   "execution_count": null,
   "metadata": {},
   "outputs": [],
   "source": [
    "import numpy as np\n",
    "from sklearn.metrics.pairwise import rbf_kernel"
   ]
  },
  {
   "cell_type": "code",
   "execution_count": 12,
   "metadata": {},
   "outputs": [],
   "source": [
    "class CW2KM:\n",
    "    def __init__(self, n_clusters, gamma, max_iter=100, p=2):\n",
    "        self.n_clusters = n_clusters\n",
    "        self.gamma = gamma\n",
    "        self.max_iter = max_iter\n",
    "        self.p = p\n",
    "\n",
    "    def fit(self, V):\n",
    "        self.K = [rbf_kernel(x, self.gamma) for x in self.X]\n",
    "\n",
    "        n = self.K[0].shape[0]\n",
    "        self.U = np.zeros((n, self.n_clusters))\n",
    "        self.weights = np.full((len(V), self.n_clusters), 1 / len(V))\n",
    "\n",
    "        for i in range(self.max_iter):\n",
    "            # Updating the cluster indicator matrix U\n",
    "            self.U *= 0\n",
    "            for j in range(n):\n",
    "                dist = []\n",
    "                for v in range(len(V)):  \n",
    "                    for k in range(self.n_clusters):\n",
    "                        K_ii = np.diag(self.K[v])\n",
    "                        K_ij = np.sum(self.U[:, k] * self.K[v][:, j])/np.sum(self.U[:, k])\n",
    "                        # soorat = 0\n",
    "                        # makhraj = 0\n",
    "                        # for l in range(0, n):\n",
    "                        #     for m in range(0, n):\n",
    "                        #         soorat += self.U[l, k] * self.U[m, k] * self.K[l, m]\n",
    "                        #         makhraj += self.U[l, k] * self.U[m, k]\n",
    "                        # K_jj = soorat/makhraj\n",
    "                        K_jj = np.sum(self.U[:n, k][:, np.newaxis] * self.U[:n, k] * self.K[v])\\\n",
    "                                /np.sum(self.U[:n, k][:, np.newaxis] * self.U[:n, k] * self.K[v])\n",
    "                        d = K_ii - 2 * K_ij + K_jj\n",
    "                        dist.append(d)\n",
    "                # dist = [self.kernel_dist(k, j) for k in range(self.n_clusters)]\n",
    "                self.U[j, np.argmin(dist)] = 1\n",
    "\n",
    "            # Updating the cluster weight ω_vk\n",
    "\n",
    "            # Sum-of-squared errors of the kth cluster in the vth view\n",
    "            D = np.zeros((len(V), self.n_clusters))\n",
    "            for j in range(n):\n",
    "                for v in range(len(V)):  \n",
    "                    for k in range(self.n_clusters):\n",
    "                        K_ii = np.diag(self.K[v])\n",
    "                        K_ij = np.sum(self.U[:, k] * self.K[v][:, j])/np.sum(self.U[:, k])\n",
    "                        # soorat = 0\n",
    "                        # makhraj = 0\n",
    "                        # for l in range(0, n):\n",
    "                        #     for m in range(0, n):\n",
    "                        #         soorat += self.U[l, k] * self.U[m, k] * self.K[l, m]\n",
    "                        #         makhraj += self.U[l, k] * self.U[m, k]\n",
    "                        # K_jj = soorat/makhraj\n",
    "                        K_jj = np.sum(self.U[:n, k][:, np.newaxis] * self.U[:n, k] * self.K[v])\\\n",
    "                                /np.sum(self.U[:n, k][:, np.newaxis] * self.U[:n, k] * self.K[v])\n",
    "                        d = K_ii - 2 * K_ij + K_jj\n",
    "                        D[v, k] += d\n",
    "\n",
    "            # Updaing w\n",
    "            # for k in range(self.n_clusters): \n",
    "            #     for v in range(len(V)): \n",
    "            #         for v_ in range(len(V)): \n",
    "            #             self.weights[v, k] = 1 / ((D[v, k]/D[v_, k]) ** (1/(self.p-1)))\n",
    "\n",
    "            self.weights = 1 / ((D[:, np.newaxis, :] / D[:, :, k]) ** (1 / (self.p - 1))).sum(axis=1)\n"
   ]
  },
  {
   "cell_type": "code",
   "execution_count": 7,
   "metadata": {},
   "outputs": [
    {
     "name": "stdout",
     "output_type": "stream",
     "text": [
      "Result: 225\n"
     ]
    }
   ],
   "source": [
    "import numpy as np\n",
    "\n",
    "def nested_sum(U, n, k):\n",
    "    result = 0\n",
    "\n",
    "    # Perform the nested summation using a nested loop\n",
    "    for i in range(1, n+1):\n",
    "        for j in range(1, n+1):\n",
    "            result += U[i-1, k] * U[j-1, k]\n",
    "\n",
    "    return result\n",
    "\n",
    "# Example usage:\n",
    "n = 3  # The value of n\n",
    "k = 1  # The value of k\n",
    "U = np.array([[1, 2, 3],\n",
    "              [4, 5, 6],\n",
    "              [7, 8, 9]])\n",
    "\n",
    "result = nested_sum(U, n, k)\n",
    "print(\"Result:\", result)"
   ]
  },
  {
   "cell_type": "code",
   "execution_count": 6,
   "metadata": {},
   "outputs": [
    {
     "name": "stdout",
     "output_type": "stream",
     "text": [
      "Result: 225\n"
     ]
    }
   ],
   "source": [
    "def nested_sum(U, n, k):\n",
    "    return np.sum(U[:n, k][:, np.newaxis] * U[:n, k])\n",
    "\n",
    "# Example usage:\n",
    "n = 3  # The value of n\n",
    "k = 1  # The value of k\n",
    "U = np.array([[1, 2, 3],\n",
    "              [4, 5, 6],\n",
    "              [7, 8, 9]])\n",
    "\n",
    "result = nested_sum(U, n, k)\n",
    "print(\"Result:\", result)"
   ]
  },
  {
   "cell_type": "code",
   "execution_count": 9,
   "metadata": {},
   "outputs": [
    {
     "ename": "ValueError",
     "evalue": "operands could not be broadcast together with shapes (2,2) (3,3) ",
     "output_type": "error",
     "traceback": [
      "\u001b[1;31m---------------------------------------------------------------------------\u001b[0m",
      "\u001b[1;31mValueError\u001b[0m                                Traceback (most recent call last)",
      "Cell \u001b[1;32mIn[9], line 15\u001b[0m\n\u001b[0;32m      9\u001b[0m U \u001b[39m=\u001b[39m np\u001b[39m.\u001b[39marray([[\u001b[39m1\u001b[39m, \u001b[39m2\u001b[39m, \u001b[39m3\u001b[39m],\n\u001b[0;32m     10\u001b[0m               [\u001b[39m4\u001b[39m, \u001b[39m5\u001b[39m, \u001b[39m6\u001b[39m]])\n\u001b[0;32m     11\u001b[0m K \u001b[39m=\u001b[39m np\u001b[39m.\u001b[39marray([[\u001b[39m10\u001b[39m, \u001b[39m11\u001b[39m, \u001b[39m12\u001b[39m],\n\u001b[0;32m     12\u001b[0m               [\u001b[39m13\u001b[39m, \u001b[39m14\u001b[39m, \u001b[39m15\u001b[39m],\n\u001b[0;32m     13\u001b[0m               [\u001b[39m16\u001b[39m, \u001b[39m17\u001b[39m, \u001b[39m18\u001b[39m]])\n\u001b[1;32m---> 15\u001b[0m result \u001b[39m=\u001b[39m nested_sum_with_matrix(U, K, n, k)\n\u001b[0;32m     16\u001b[0m \u001b[39mprint\u001b[39m(\u001b[39m\"\u001b[39m\u001b[39mResult:\u001b[39m\u001b[39m\"\u001b[39m, result)\n",
      "Cell \u001b[1;32mIn[9], line 4\u001b[0m, in \u001b[0;36mnested_sum_with_matrix\u001b[1;34m(U, K, n, k)\u001b[0m\n\u001b[0;32m      3\u001b[0m \u001b[39mdef\u001b[39;00m \u001b[39mnested_sum_with_matrix\u001b[39m(U, K, n, k):\n\u001b[1;32m----> 4\u001b[0m     \u001b[39mreturn\u001b[39;00m np\u001b[39m.\u001b[39msum(U[:n, k][:, np\u001b[39m.\u001b[39;49mnewaxis] \u001b[39m*\u001b[39;49m U[:n, k] \u001b[39m*\u001b[39;49m K[:n, :n])\n",
      "\u001b[1;31mValueError\u001b[0m: operands could not be broadcast together with shapes (2,2) (3,3) "
     ]
    }
   ],
   "source": [
    "import numpy as np\n",
    "\n",
    "def nested_sum_with_matrix(U, K, n, k):\n",
    "    return np.sum(U[:n, k][:, np.newaxis] * U[:n, k] * K[:n, :n])\n",
    "\n",
    "# Example usage:\n",
    "n = 3  # The value of n\n",
    "k = 1  # The value of k\n",
    "U = np.array([[1, 2, 3],\n",
    "              [4, 5, 6],\n",
    "              [7, 8, 9]])\n",
    "K = np.array([[10, 11, 12],\n",
    "              [13, 14, 15],\n",
    "              [16, 17, 18]])\n",
    "\n",
    "result = nested_sum_with_matrix(U, K, n, k)\n",
    "print(\"Result:\", result)\n"
   ]
  },
  {
   "cell_type": "code",
   "execution_count": null,
   "metadata": {},
   "outputs": [],
   "source": []
  }
 ],
 "metadata": {
  "kernelspec": {
   "display_name": "base",
   "language": "python",
   "name": "python3"
  },
  "language_info": {
   "codemirror_mode": {
    "name": "ipython",
    "version": 3
   },
   "file_extension": ".py",
   "mimetype": "text/x-python",
   "name": "python",
   "nbconvert_exporter": "python",
   "pygments_lexer": "ipython3",
   "version": "3.9.15"
  },
  "orig_nbformat": 4,
  "vscode": {
   "interpreter": {
    "hash": "ffc2c986650f75bb84df5ef0f5794d173c138677d61245fd2c4ff2debf2f2371"
   }
  }
 },
 "nbformat": 4,
 "nbformat_minor": 2
}
